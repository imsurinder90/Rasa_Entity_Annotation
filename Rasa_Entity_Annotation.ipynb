{
 "cells": [
  {
   "cell_type": "markdown",
   "metadata": {},
   "source": [
    "## Rasa Entity Annotation tool (in progress)\n",
    "A simple entity annonate tool to find and annotate entities present in the input text file"
   ]
  },
  {
   "cell_type": "code",
   "execution_count": 22,
   "metadata": {},
   "outputs": [],
   "source": [
    "def get_list_from_file(file_name='./extra/input_data.txt'):\n",
    "    \"\"\"read the lines from a file into a list\"\"\"\n",
    "    with open(file_name, mode='r', encoding='utf-8') as f1:\n",
    "        lst = f1.readlines()\n",
    "    return lst"
   ]
  },
  {
   "cell_type": "code",
   "execution_count": 23,
   "metadata": {},
   "outputs": [],
   "source": [
    "def append_to_file(line_data, file_name='./extra/out_data.txt', ):\n",
    "    \"\"\"append a line of text to a file\"\"\"\n",
    "    with open(file_name, mode='a', encoding='utf-8') as f1:\n",
    "        f1.write(line_data)\n",
    "        f1.write(\"\\n\")"
   ]
  },
  {
   "cell_type": "code",
   "execution_count": 24,
   "metadata": {},
   "outputs": [],
   "source": [
    "# Read data from the text file\n",
    "data = get_list_from_file('./extra/test_data.txt')"
   ]
  },
  {
   "cell_type": "code",
   "execution_count": 27,
   "metadata": {},
   "outputs": [],
   "source": [
    "# Define entites to annontate\n",
    "# Here location is entity name and list of values is possible entity value\n",
    "entities = {\n",
    "    'location': ['delhi', 'chandigarh', 'mumbai', 'bangalore'],\n",
    "    'book_time': ['today', 'tomorrow', 'yesterday'] # just example\n",
    "}"
   ]
  },
  {
   "cell_type": "code",
   "execution_count": 26,
   "metadata": {},
   "outputs": [],
   "source": [
    "# Iter over lines, find entity and annotate it\n",
    "# Example: Book me a flight from Chandigarh to New York for tomorrow\n",
    "# Output:  Book me a flight from [chandigarh](location) to [New York](location) for [tomorrow](book_time)\n",
    "for line in data:\n",
    "    line = line.lower().strip('\\n')\n",
    "    for key, entity in entities.items():\n",
    "        for ent in entity:\n",
    "            if ent in line:\n",
    "                line = line.replace(ent, '[{}]({})'.format(ent, key))\n",
    "    line = '- {}'.format(line)\n",
    "    append_to_file(line)"
   ]
  },
  {
   "cell_type": "code",
   "execution_count": null,
   "metadata": {},
   "outputs": [],
   "source": []
  }
 ],
 "metadata": {
  "kernelspec": {
   "display_name": "Python [conda env:tia]",
   "language": "python",
   "name": "conda-env-tia-py"
  },
  "language_info": {
   "codemirror_mode": {
    "name": "ipython",
    "version": 3
   },
   "file_extension": ".py",
   "mimetype": "text/x-python",
   "name": "python",
   "nbconvert_exporter": "python",
   "pygments_lexer": "ipython3",
   "version": "3.6.5"
  }
 },
 "nbformat": 4,
 "nbformat_minor": 2
}
